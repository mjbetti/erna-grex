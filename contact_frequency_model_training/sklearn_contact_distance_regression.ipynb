{
 "cells": [
  {
   "cell_type": "code",
   "execution_count": 7,
   "id": "d2482cc6",
   "metadata": {
    "tags": []
   },
   "outputs": [],
   "source": [
    "import numpy as np\n",
    "from sklearn.linear_model import LinearRegression\n",
    "from sklearn.metrics import r2_score\n",
    "from sklearn.model_selection import train_test_split\n",
    "import pickle\n",
    "import torch\n",
    "import random\n",
    "import pandas as pd\n"
   ]
  },
  {
   "cell_type": "code",
   "execution_count": 8,
   "id": "cc6fd917",
   "metadata": {},
   "outputs": [],
   "source": [
    "#Set seeds to allow for reproducibility of the results\n",
    "torch.manual_seed(0)\n",
    "random.seed(0)\n",
    "np.random.seed(0)"
   ]
  },
  {
   "cell_type": "code",
   "execution_count": 184,
   "id": "8d46b4d5-9156-4168-a73c-b5d07b80fd87",
   "metadata": {},
   "outputs": [],
   "source": [
    "# cluster = LocalCUDACluster()\n",
    "# client = Client(cluster)\n",
    "# client"
   ]
  },
  {
   "cell_type": "code",
   "execution_count": 9,
   "id": "893df846",
   "metadata": {},
   "outputs": [],
   "source": [
    "#For whole blood dataset\n",
    "data = pd.read_csv(\"intersect_4DNFI18UHVRO.10kb.with_id.with_transcripts.erna_gene_filt.with_exp.txt\", sep = \"\\t\")"
   ]
  },
  {
   "cell_type": "code",
   "execution_count": 10,
   "id": "4c3ef727",
   "metadata": {},
   "outputs": [
    {
     "data": {
      "text/html": [
       "<div>\n",
       "<style scoped>\n",
       "    .dataframe tbody tr th:only-of-type {\n",
       "        vertical-align: middle;\n",
       "    }\n",
       "\n",
       "    .dataframe tbody tr th {\n",
       "        vertical-align: top;\n",
       "    }\n",
       "\n",
       "    .dataframe thead th {\n",
       "        text-align: right;\n",
       "    }\n",
       "</style>\n",
       "<table border=\"1\" class=\"dataframe\">\n",
       "  <thead>\n",
       "    <tr style=\"text-align: right;\">\n",
       "      <th></th>\n",
       "      <th>transcript1</th>\n",
       "      <th>expression1</th>\n",
       "      <th>transcript2</th>\n",
       "      <th>expression2</th>\n",
       "      <th>dist</th>\n",
       "      <th>norm_contacts</th>\n",
       "    </tr>\n",
       "  </thead>\n",
       "  <tbody>\n",
       "    <tr>\n",
       "      <th>0</th>\n",
       "      <td>ENSG00000272455</td>\n",
       "      <td>-0.028341</td>\n",
       "      <td>ENSR00000000202</td>\n",
       "      <td>-0.000818</td>\n",
       "      <td>140000</td>\n",
       "      <td>48</td>\n",
       "    </tr>\n",
       "    <tr>\n",
       "      <th>1</th>\n",
       "      <td>ENSG00000224051</td>\n",
       "      <td>-0.012343</td>\n",
       "      <td>ENSR00000000202</td>\n",
       "      <td>-0.000818</td>\n",
       "      <td>230000</td>\n",
       "      <td>32</td>\n",
       "    </tr>\n",
       "    <tr>\n",
       "      <th>2</th>\n",
       "      <td>ENSG00000224870</td>\n",
       "      <td>0.005104</td>\n",
       "      <td>ENSR00000000202</td>\n",
       "      <td>-0.000818</td>\n",
       "      <td>150000</td>\n",
       "      <td>58</td>\n",
       "    </tr>\n",
       "    <tr>\n",
       "      <th>3</th>\n",
       "      <td>ENSG00000197785</td>\n",
       "      <td>0.055437</td>\n",
       "      <td>ENSR00000000202</td>\n",
       "      <td>-0.000818</td>\n",
       "      <td>40000</td>\n",
       "      <td>121</td>\n",
       "    </tr>\n",
       "    <tr>\n",
       "      <th>4</th>\n",
       "      <td>ENSG00000272512</td>\n",
       "      <td>-0.025277</td>\n",
       "      <td>ENSR00000000202</td>\n",
       "      <td>-0.000818</td>\n",
       "      <td>560000</td>\n",
       "      <td>12</td>\n",
       "    </tr>\n",
       "    <tr>\n",
       "      <th>...</th>\n",
       "      <td>...</td>\n",
       "      <td>...</td>\n",
       "      <td>...</td>\n",
       "      <td>...</td>\n",
       "      <td>...</td>\n",
       "      <td>...</td>\n",
       "    </tr>\n",
       "    <tr>\n",
       "      <th>85625</th>\n",
       "      <td>ENSR00000144311</td>\n",
       "      <td>-0.147444</td>\n",
       "      <td>ENSG00000008735</td>\n",
       "      <td>-0.045636</td>\n",
       "      <td>26700000</td>\n",
       "      <td>1</td>\n",
       "    </tr>\n",
       "    <tr>\n",
       "      <th>85626</th>\n",
       "      <td>ENSR00000146851</td>\n",
       "      <td>0.470797</td>\n",
       "      <td>ENSG00000008735</td>\n",
       "      <td>-0.045636</td>\n",
       "      <td>7710000</td>\n",
       "      <td>1</td>\n",
       "    </tr>\n",
       "    <tr>\n",
       "      <th>85627</th>\n",
       "      <td>ENSR00000144050</td>\n",
       "      <td>-0.134191</td>\n",
       "      <td>ENSG00000008735</td>\n",
       "      <td>-0.045636</td>\n",
       "      <td>28870000</td>\n",
       "      <td>1</td>\n",
       "    </tr>\n",
       "    <tr>\n",
       "      <th>85628</th>\n",
       "      <td>ENSR00000146851</td>\n",
       "      <td>0.470797</td>\n",
       "      <td>ENSG00000100299</td>\n",
       "      <td>-0.279448</td>\n",
       "      <td>7720000</td>\n",
       "      <td>3</td>\n",
       "    </tr>\n",
       "    <tr>\n",
       "      <th>85629</th>\n",
       "      <td>ENSR00000146851</td>\n",
       "      <td>0.470797</td>\n",
       "      <td>ENSG00000079974</td>\n",
       "      <td>0.020025</td>\n",
       "      <td>7880000</td>\n",
       "      <td>1</td>\n",
       "    </tr>\n",
       "  </tbody>\n",
       "</table>\n",
       "<p>85630 rows × 6 columns</p>\n",
       "</div>"
      ],
      "text/plain": [
       "           transcript1  expression1      transcript2  expression2      dist  \\\n",
       "0      ENSG00000272455    -0.028341  ENSR00000000202    -0.000818    140000   \n",
       "1      ENSG00000224051    -0.012343  ENSR00000000202    -0.000818    230000   \n",
       "2      ENSG00000224870     0.005104  ENSR00000000202    -0.000818    150000   \n",
       "3      ENSG00000197785     0.055437  ENSR00000000202    -0.000818     40000   \n",
       "4      ENSG00000272512    -0.025277  ENSR00000000202    -0.000818    560000   \n",
       "...                ...          ...              ...          ...       ...   \n",
       "85625  ENSR00000144311    -0.147444  ENSG00000008735    -0.045636  26700000   \n",
       "85626  ENSR00000146851     0.470797  ENSG00000008735    -0.045636   7710000   \n",
       "85627  ENSR00000144050    -0.134191  ENSG00000008735    -0.045636  28870000   \n",
       "85628  ENSR00000146851     0.470797  ENSG00000100299    -0.279448   7720000   \n",
       "85629  ENSR00000146851     0.470797  ENSG00000079974     0.020025   7880000   \n",
       "\n",
       "       norm_contacts  \n",
       "0                 48  \n",
       "1                 32  \n",
       "2                 58  \n",
       "3                121  \n",
       "4                 12  \n",
       "...              ...  \n",
       "85625              1  \n",
       "85626              1  \n",
       "85627              1  \n",
       "85628              3  \n",
       "85629              1  \n",
       "\n",
       "[85630 rows x 6 columns]"
      ]
     },
     "execution_count": 10,
     "metadata": {},
     "output_type": "execute_result"
    }
   ],
   "source": [
    "data"
   ]
  },
  {
   "cell_type": "code",
   "execution_count": 11,
   "id": "81832591",
   "metadata": {},
   "outputs": [],
   "source": [
    "#Prepare training, validation, and test data\n",
    "train = data[[\"expression1\", \"expression2\", \"dist\", \"norm_contacts\"]]\n",
    "train_features = train.copy()\n",
    "\n",
    "##Log-normalize contact frequencies\n",
    "#train_features[\"norm_contacts\"] = np.log(train_features[\"norm_contacts\"])\n",
    "\n",
    "##Log1p-normalize genomic distances\n",
    "#train_features[\"dist\"] = np.log1p(train_features[\"dist\"])\n",
    "\n",
    "train_labels = train_features.pop(\"norm_contacts\")\n",
    "#train_features.pop(\"expression1\")\n",
    "#train_features.pop(\"expression2\")\n",
    "train_features.pop(\"dist\")\n",
    "train_labels\n",
    "\n",
    "#train_labels = list(map(lambda x: x.replace('ad', '0'), train_labels))\n",
    "#train_labels = list(map(lambda x: x.replace('scc', '1'), train_labels))\n",
    "\n",
    "#train_labels = [int(x) for x in train_labels]\n",
    "train_labels = np.array(train_labels)\n",
    "\n",
    "train_labels\n",
    "\n",
    "train_set_final, test_set_final, train_labels_final, test_labels_final = train_test_split(train_features, train_labels, test_size=0.2, random_state=42)\n",
    "#val_set_final, test_set_final, val_labels_final, test_labels_final = train_test_split(test_set_prelim, test_labels_prelim, test_size=0.5, random_state=42)"
   ]
  },
  {
   "cell_type": "code",
   "execution_count": 12,
   "id": "315dfac8",
   "metadata": {},
   "outputs": [
    {
     "data": {
      "text/plain": [
       "(68504,)"
      ]
     },
     "execution_count": 12,
     "metadata": {},
     "output_type": "execute_result"
    }
   ],
   "source": [
    "train_set_final = np.array(train_set_final)\n",
    "train_set_final.shape\n",
    "\n",
    "train_labels_final = np.array(train_labels_final)\n",
    "train_labels_final.shape"
   ]
  },
  {
   "cell_type": "code",
   "execution_count": 155,
   "id": "b4234817",
   "metadata": {},
   "outputs": [],
   "source": [
    "# val_set_final = np.array(val_set_final)\n",
    "# val_set_final.shape\n",
    "\n",
    "# val_labels_final = np.array(val_labels_final)\n",
    "# val_labels_final.shape"
   ]
  },
  {
   "cell_type": "code",
   "execution_count": 13,
   "id": "6abaf5fa",
   "metadata": {},
   "outputs": [
    {
     "data": {
      "text/plain": [
       "(17126, 2)"
      ]
     },
     "execution_count": 13,
     "metadata": {},
     "output_type": "execute_result"
    }
   ],
   "source": [
    "test_set_final = np.array(test_set_final)\n",
    "test_set_final.shape"
   ]
  },
  {
   "cell_type": "code",
   "execution_count": 14,
   "id": "324dd9a0",
   "metadata": {},
   "outputs": [],
   "source": [
    "train_features = np.array(train_features)"
   ]
  },
  {
   "cell_type": "code",
   "execution_count": 15,
   "id": "2001afbd",
   "metadata": {},
   "outputs": [],
   "source": [
    "# X = np.concatenate((train_set_final, val_set_final), axis=0)\n",
    "# y = np.concatenate((train_labels_final, val_labels_final), axis=0)\n",
    "X = train_set_final\n",
    "y = train_labels_final"
   ]
  },
  {
   "cell_type": "code",
   "execution_count": 16,
   "id": "cd63e854",
   "metadata": {},
   "outputs": [
    {
     "data": {
      "text/html": [
       "<style>#sk-container-id-1 {color: black;}#sk-container-id-1 pre{padding: 0;}#sk-container-id-1 div.sk-toggleable {background-color: white;}#sk-container-id-1 label.sk-toggleable__label {cursor: pointer;display: block;width: 100%;margin-bottom: 0;padding: 0.3em;box-sizing: border-box;text-align: center;}#sk-container-id-1 label.sk-toggleable__label-arrow:before {content: \"▸\";float: left;margin-right: 0.25em;color: #696969;}#sk-container-id-1 label.sk-toggleable__label-arrow:hover:before {color: black;}#sk-container-id-1 div.sk-estimator:hover label.sk-toggleable__label-arrow:before {color: black;}#sk-container-id-1 div.sk-toggleable__content {max-height: 0;max-width: 0;overflow: hidden;text-align: left;background-color: #f0f8ff;}#sk-container-id-1 div.sk-toggleable__content pre {margin: 0.2em;color: black;border-radius: 0.25em;background-color: #f0f8ff;}#sk-container-id-1 input.sk-toggleable__control:checked~div.sk-toggleable__content {max-height: 200px;max-width: 100%;overflow: auto;}#sk-container-id-1 input.sk-toggleable__control:checked~label.sk-toggleable__label-arrow:before {content: \"▾\";}#sk-container-id-1 div.sk-estimator input.sk-toggleable__control:checked~label.sk-toggleable__label {background-color: #d4ebff;}#sk-container-id-1 div.sk-label input.sk-toggleable__control:checked~label.sk-toggleable__label {background-color: #d4ebff;}#sk-container-id-1 input.sk-hidden--visually {border: 0;clip: rect(1px 1px 1px 1px);clip: rect(1px, 1px, 1px, 1px);height: 1px;margin: -1px;overflow: hidden;padding: 0;position: absolute;width: 1px;}#sk-container-id-1 div.sk-estimator {font-family: monospace;background-color: #f0f8ff;border: 1px dotted black;border-radius: 0.25em;box-sizing: border-box;margin-bottom: 0.5em;}#sk-container-id-1 div.sk-estimator:hover {background-color: #d4ebff;}#sk-container-id-1 div.sk-parallel-item::after {content: \"\";width: 100%;border-bottom: 1px solid gray;flex-grow: 1;}#sk-container-id-1 div.sk-label:hover label.sk-toggleable__label {background-color: #d4ebff;}#sk-container-id-1 div.sk-serial::before {content: \"\";position: absolute;border-left: 1px solid gray;box-sizing: border-box;top: 0;bottom: 0;left: 50%;z-index: 0;}#sk-container-id-1 div.sk-serial {display: flex;flex-direction: column;align-items: center;background-color: white;padding-right: 0.2em;padding-left: 0.2em;position: relative;}#sk-container-id-1 div.sk-item {position: relative;z-index: 1;}#sk-container-id-1 div.sk-parallel {display: flex;align-items: stretch;justify-content: center;background-color: white;position: relative;}#sk-container-id-1 div.sk-item::before, #sk-container-id-1 div.sk-parallel-item::before {content: \"\";position: absolute;border-left: 1px solid gray;box-sizing: border-box;top: 0;bottom: 0;left: 50%;z-index: -1;}#sk-container-id-1 div.sk-parallel-item {display: flex;flex-direction: column;z-index: 1;position: relative;background-color: white;}#sk-container-id-1 div.sk-parallel-item:first-child::after {align-self: flex-end;width: 50%;}#sk-container-id-1 div.sk-parallel-item:last-child::after {align-self: flex-start;width: 50%;}#sk-container-id-1 div.sk-parallel-item:only-child::after {width: 0;}#sk-container-id-1 div.sk-dashed-wrapped {border: 1px dashed gray;margin: 0 0.4em 0.5em 0.4em;box-sizing: border-box;padding-bottom: 0.4em;background-color: white;}#sk-container-id-1 div.sk-label label {font-family: monospace;font-weight: bold;display: inline-block;line-height: 1.2em;}#sk-container-id-1 div.sk-label-container {text-align: center;}#sk-container-id-1 div.sk-container {/* jupyter's `normalize.less` sets `[hidden] { display: none; }` but bootstrap.min.css set `[hidden] { display: none !important; }` so we also need the `!important` here to be able to override the default hidden behavior on the sphinx rendered scikit-learn.org. See: https://github.com/scikit-learn/scikit-learn/issues/21755 */display: inline-block !important;position: relative;}#sk-container-id-1 div.sk-text-repr-fallback {display: none;}</style><div id=\"sk-container-id-1\" class=\"sk-top-container\"><div class=\"sk-text-repr-fallback\"><pre>LinearRegression()</pre><b>In a Jupyter environment, please rerun this cell to show the HTML representation or trust the notebook. <br />On GitHub, the HTML representation is unable to render, please try loading this page with nbviewer.org.</b></div><div class=\"sk-container\" hidden><div class=\"sk-item\"><div class=\"sk-estimator sk-toggleable\"><input class=\"sk-toggleable__control sk-hidden--visually\" id=\"sk-estimator-id-1\" type=\"checkbox\" checked><label for=\"sk-estimator-id-1\" class=\"sk-toggleable__label sk-toggleable__label-arrow\">LinearRegression</label><div class=\"sk-toggleable__content\"><pre>LinearRegression()</pre></div></div></div></div></div>"
      ],
      "text/plain": [
       "LinearRegression()"
      ]
     },
     "execution_count": 16,
     "metadata": {},
     "output_type": "execute_result"
    }
   ],
   "source": [
    "#Initialize a linear regression model and fit it to the training set\n",
    "model = LinearRegression()\n",
    "model.fit(X, y)"
   ]
  },
  {
   "cell_type": "code",
   "execution_count": 17,
   "id": "bb38222d",
   "metadata": {},
   "outputs": [],
   "source": [
    "#Test the model using the test set\n",
    "y_pred = model.predict(test_set_final)"
   ]
  },
  {
   "cell_type": "code",
   "execution_count": 19,
   "id": "25fc89f0",
   "metadata": {},
   "outputs": [
    {
     "name": "stdout",
     "output_type": "stream",
     "text": [
      "R² Score: 0.00084\n"
     ]
    }
   ],
   "source": [
    "#Calculare the predictive R2 of the model\n",
    "r2 = r2_score(test_labels_final, y_pred)\n",
    "print(f'R² Score: {r2:.5f}')"
   ]
  },
  {
   "cell_type": "code",
   "execution_count": 20,
   "id": "574b7e23",
   "metadata": {},
   "outputs": [],
   "source": [
    "#For cerebellum dataset\n",
    "data = pd.read_csv(\"intersect_4DNFIWCAQUIK.10kb.with_id.with_transcripts.erna_gene_filt.with_exp.txt\", sep = \"\\t\")"
   ]
  },
  {
   "cell_type": "code",
   "execution_count": 21,
   "id": "2fadf1f7",
   "metadata": {},
   "outputs": [
    {
     "data": {
      "text/html": [
       "<div>\n",
       "<style scoped>\n",
       "    .dataframe tbody tr th:only-of-type {\n",
       "        vertical-align: middle;\n",
       "    }\n",
       "\n",
       "    .dataframe tbody tr th {\n",
       "        vertical-align: top;\n",
       "    }\n",
       "\n",
       "    .dataframe thead th {\n",
       "        text-align: right;\n",
       "    }\n",
       "</style>\n",
       "<table border=\"1\" class=\"dataframe\">\n",
       "  <thead>\n",
       "    <tr style=\"text-align: right;\">\n",
       "      <th></th>\n",
       "      <th>transcript1</th>\n",
       "      <th>expression1</th>\n",
       "      <th>transcript2</th>\n",
       "      <th>expression2</th>\n",
       "      <th>dist</th>\n",
       "      <th>norm_contacts</th>\n",
       "    </tr>\n",
       "  </thead>\n",
       "  <tbody>\n",
       "    <tr>\n",
       "      <th>0</th>\n",
       "      <td>ENSG00000189339</td>\n",
       "      <td>-0.139152</td>\n",
       "      <td>ENSR00000249824</td>\n",
       "      <td>-0.218757</td>\n",
       "      <td>250000</td>\n",
       "      <td>1</td>\n",
       "    </tr>\n",
       "    <tr>\n",
       "      <th>1</th>\n",
       "      <td>ENSG00000008128</td>\n",
       "      <td>-0.007803</td>\n",
       "      <td>ENSR00000249824</td>\n",
       "      <td>-0.218757</td>\n",
       "      <td>220000</td>\n",
       "      <td>5</td>\n",
       "    </tr>\n",
       "    <tr>\n",
       "      <th>2</th>\n",
       "      <td>ENSR00000249824</td>\n",
       "      <td>-0.218757</td>\n",
       "      <td>ENSR00000249824</td>\n",
       "      <td>-0.218757</td>\n",
       "      <td>0</td>\n",
       "      <td>148</td>\n",
       "    </tr>\n",
       "    <tr>\n",
       "      <th>3</th>\n",
       "      <td>ENSG00000215915</td>\n",
       "      <td>0.020419</td>\n",
       "      <td>ENSR00000249824</td>\n",
       "      <td>-0.218757</td>\n",
       "      <td>480000</td>\n",
       "      <td>1</td>\n",
       "    </tr>\n",
       "    <tr>\n",
       "      <th>4</th>\n",
       "      <td>ENSG00000231050</td>\n",
       "      <td>-0.063613</td>\n",
       "      <td>ENSR00000249824</td>\n",
       "      <td>-0.218757</td>\n",
       "      <td>40000</td>\n",
       "      <td>1</td>\n",
       "    </tr>\n",
       "    <tr>\n",
       "      <th>...</th>\n",
       "      <td>...</td>\n",
       "      <td>...</td>\n",
       "      <td>...</td>\n",
       "      <td>...</td>\n",
       "      <td>...</td>\n",
       "      <td>...</td>\n",
       "    </tr>\n",
       "    <tr>\n",
       "      <th>95696</th>\n",
       "      <td>ENSG00000008735</td>\n",
       "      <td>-0.006373</td>\n",
       "      <td>ENSR00000147753</td>\n",
       "      <td>0.005671</td>\n",
       "      <td>50000</td>\n",
       "      <td>2</td>\n",
       "    </tr>\n",
       "    <tr>\n",
       "      <th>95697</th>\n",
       "      <td>ENSG00000100412</td>\n",
       "      <td>0.023097</td>\n",
       "      <td>ENSR00000147753</td>\n",
       "      <td>0.005671</td>\n",
       "      <td>9160000</td>\n",
       "      <td>1</td>\n",
       "    </tr>\n",
       "    <tr>\n",
       "      <th>95698</th>\n",
       "      <td>ENSR00000147753</td>\n",
       "      <td>0.005671</td>\n",
       "      <td>ENSG00000079974</td>\n",
       "      <td>-0.007761</td>\n",
       "      <td>110000</td>\n",
       "      <td>1</td>\n",
       "    </tr>\n",
       "    <tr>\n",
       "      <th>95699</th>\n",
       "      <td>ENSR00000143576</td>\n",
       "      <td>-0.130605</td>\n",
       "      <td>ENSG00000079974</td>\n",
       "      <td>-0.007761</td>\n",
       "      <td>32990000</td>\n",
       "      <td>1</td>\n",
       "    </tr>\n",
       "    <tr>\n",
       "      <th>95700</th>\n",
       "      <td>ENSR00000145409</td>\n",
       "      <td>-0.458633</td>\n",
       "      <td>ENSG00000079974</td>\n",
       "      <td>-0.007761</td>\n",
       "      <td>18840000</td>\n",
       "      <td>1</td>\n",
       "    </tr>\n",
       "  </tbody>\n",
       "</table>\n",
       "<p>95701 rows × 6 columns</p>\n",
       "</div>"
      ],
      "text/plain": [
       "           transcript1  expression1      transcript2  expression2      dist  \\\n",
       "0      ENSG00000189339    -0.139152  ENSR00000249824    -0.218757    250000   \n",
       "1      ENSG00000008128    -0.007803  ENSR00000249824    -0.218757    220000   \n",
       "2      ENSR00000249824    -0.218757  ENSR00000249824    -0.218757         0   \n",
       "3      ENSG00000215915     0.020419  ENSR00000249824    -0.218757    480000   \n",
       "4      ENSG00000231050    -0.063613  ENSR00000249824    -0.218757     40000   \n",
       "...                ...          ...              ...          ...       ...   \n",
       "95696  ENSG00000008735    -0.006373  ENSR00000147753     0.005671     50000   \n",
       "95697  ENSG00000100412     0.023097  ENSR00000147753     0.005671   9160000   \n",
       "95698  ENSR00000147753     0.005671  ENSG00000079974    -0.007761    110000   \n",
       "95699  ENSR00000143576    -0.130605  ENSG00000079974    -0.007761  32990000   \n",
       "95700  ENSR00000145409    -0.458633  ENSG00000079974    -0.007761  18840000   \n",
       "\n",
       "       norm_contacts  \n",
       "0                  1  \n",
       "1                  5  \n",
       "2                148  \n",
       "3                  1  \n",
       "4                  1  \n",
       "...              ...  \n",
       "95696              2  \n",
       "95697              1  \n",
       "95698              1  \n",
       "95699              1  \n",
       "95700              1  \n",
       "\n",
       "[95701 rows x 6 columns]"
      ]
     },
     "execution_count": 21,
     "metadata": {},
     "output_type": "execute_result"
    }
   ],
   "source": [
    "data"
   ]
  },
  {
   "cell_type": "code",
   "execution_count": 22,
   "id": "4e84e6bc",
   "metadata": {},
   "outputs": [],
   "source": [
    "#Prepare training, validation, and test data\n",
    "train = data[[\"expression1\", \"expression2\", \"dist\", \"norm_contacts\"]]\n",
    "train_features = train.copy()\n",
    "\n",
    "##Log-normalize contact frequencies\n",
    "#train_features[\"norm_contacts\"] = np.log(train_features[\"norm_contacts\"])\n",
    "\n",
    "##Log1p-normalize genomic distances\n",
    "#train_features[\"dist\"] = np.log1p(train_features[\"dist\"])\n",
    "\n",
    "train_labels = train_features.pop(\"norm_contacts\")\n",
    "#train_features.pop(\"expression1\")\n",
    "#train_features.pop(\"expression2\")\n",
    "train_features.pop(\"dist\")\n",
    "train_labels\n",
    "\n",
    "#train_labels = list(map(lambda x: x.replace('ad', '0'), train_labels))\n",
    "#train_labels = list(map(lambda x: x.replace('scc', '1'), train_labels))\n",
    "\n",
    "#train_labels = [int(x) for x in train_labels]\n",
    "train_labels = np.array(train_labels)\n",
    "\n",
    "train_labels\n",
    "\n",
    "train_set_final, test_set_final, train_labels_final, test_labels_final = train_test_split(train_features, train_labels, test_size=0.2, random_state=42)\n",
    "#val_set_final, test_set_final, val_labels_final, test_labels_final = train_test_split(test_set_prelim, test_labels_prelim, test_size=0.5, random_state=42)"
   ]
  },
  {
   "cell_type": "code",
   "execution_count": 23,
   "id": "7ae801e8",
   "metadata": {},
   "outputs": [
    {
     "data": {
      "text/plain": [
       "(76560,)"
      ]
     },
     "execution_count": 23,
     "metadata": {},
     "output_type": "execute_result"
    }
   ],
   "source": [
    "train_set_final = np.array(train_set_final)\n",
    "train_set_final.shape\n",
    "\n",
    "train_labels_final = np.array(train_labels_final)\n",
    "train_labels_final.shape"
   ]
  },
  {
   "cell_type": "code",
   "execution_count": 24,
   "id": "6f093d79",
   "metadata": {},
   "outputs": [
    {
     "data": {
      "text/plain": [
       "(19141, 2)"
      ]
     },
     "execution_count": 24,
     "metadata": {},
     "output_type": "execute_result"
    }
   ],
   "source": [
    "test_set_final = np.array(test_set_final)\n",
    "test_set_final.shape"
   ]
  },
  {
   "cell_type": "code",
   "execution_count": 25,
   "id": "5ecf91f0",
   "metadata": {},
   "outputs": [],
   "source": [
    "train_features = np.array(train_features)"
   ]
  },
  {
   "cell_type": "code",
   "execution_count": 26,
   "id": "e3a2f49f",
   "metadata": {},
   "outputs": [],
   "source": [
    "# X = np.concatenate((train_set_final, val_set_final), axis=0)\n",
    "# y = np.concatenate((train_labels_final, val_labels_final), axis=0)\n",
    "X = train_set_final\n",
    "y = train_labels_final"
   ]
  },
  {
   "cell_type": "code",
   "execution_count": 27,
   "id": "bae2a75c",
   "metadata": {},
   "outputs": [
    {
     "data": {
      "text/html": [
       "<style>#sk-container-id-2 {color: black;}#sk-container-id-2 pre{padding: 0;}#sk-container-id-2 div.sk-toggleable {background-color: white;}#sk-container-id-2 label.sk-toggleable__label {cursor: pointer;display: block;width: 100%;margin-bottom: 0;padding: 0.3em;box-sizing: border-box;text-align: center;}#sk-container-id-2 label.sk-toggleable__label-arrow:before {content: \"▸\";float: left;margin-right: 0.25em;color: #696969;}#sk-container-id-2 label.sk-toggleable__label-arrow:hover:before {color: black;}#sk-container-id-2 div.sk-estimator:hover label.sk-toggleable__label-arrow:before {color: black;}#sk-container-id-2 div.sk-toggleable__content {max-height: 0;max-width: 0;overflow: hidden;text-align: left;background-color: #f0f8ff;}#sk-container-id-2 div.sk-toggleable__content pre {margin: 0.2em;color: black;border-radius: 0.25em;background-color: #f0f8ff;}#sk-container-id-2 input.sk-toggleable__control:checked~div.sk-toggleable__content {max-height: 200px;max-width: 100%;overflow: auto;}#sk-container-id-2 input.sk-toggleable__control:checked~label.sk-toggleable__label-arrow:before {content: \"▾\";}#sk-container-id-2 div.sk-estimator input.sk-toggleable__control:checked~label.sk-toggleable__label {background-color: #d4ebff;}#sk-container-id-2 div.sk-label input.sk-toggleable__control:checked~label.sk-toggleable__label {background-color: #d4ebff;}#sk-container-id-2 input.sk-hidden--visually {border: 0;clip: rect(1px 1px 1px 1px);clip: rect(1px, 1px, 1px, 1px);height: 1px;margin: -1px;overflow: hidden;padding: 0;position: absolute;width: 1px;}#sk-container-id-2 div.sk-estimator {font-family: monospace;background-color: #f0f8ff;border: 1px dotted black;border-radius: 0.25em;box-sizing: border-box;margin-bottom: 0.5em;}#sk-container-id-2 div.sk-estimator:hover {background-color: #d4ebff;}#sk-container-id-2 div.sk-parallel-item::after {content: \"\";width: 100%;border-bottom: 1px solid gray;flex-grow: 1;}#sk-container-id-2 div.sk-label:hover label.sk-toggleable__label {background-color: #d4ebff;}#sk-container-id-2 div.sk-serial::before {content: \"\";position: absolute;border-left: 1px solid gray;box-sizing: border-box;top: 0;bottom: 0;left: 50%;z-index: 0;}#sk-container-id-2 div.sk-serial {display: flex;flex-direction: column;align-items: center;background-color: white;padding-right: 0.2em;padding-left: 0.2em;position: relative;}#sk-container-id-2 div.sk-item {position: relative;z-index: 1;}#sk-container-id-2 div.sk-parallel {display: flex;align-items: stretch;justify-content: center;background-color: white;position: relative;}#sk-container-id-2 div.sk-item::before, #sk-container-id-2 div.sk-parallel-item::before {content: \"\";position: absolute;border-left: 1px solid gray;box-sizing: border-box;top: 0;bottom: 0;left: 50%;z-index: -1;}#sk-container-id-2 div.sk-parallel-item {display: flex;flex-direction: column;z-index: 1;position: relative;background-color: white;}#sk-container-id-2 div.sk-parallel-item:first-child::after {align-self: flex-end;width: 50%;}#sk-container-id-2 div.sk-parallel-item:last-child::after {align-self: flex-start;width: 50%;}#sk-container-id-2 div.sk-parallel-item:only-child::after {width: 0;}#sk-container-id-2 div.sk-dashed-wrapped {border: 1px dashed gray;margin: 0 0.4em 0.5em 0.4em;box-sizing: border-box;padding-bottom: 0.4em;background-color: white;}#sk-container-id-2 div.sk-label label {font-family: monospace;font-weight: bold;display: inline-block;line-height: 1.2em;}#sk-container-id-2 div.sk-label-container {text-align: center;}#sk-container-id-2 div.sk-container {/* jupyter's `normalize.less` sets `[hidden] { display: none; }` but bootstrap.min.css set `[hidden] { display: none !important; }` so we also need the `!important` here to be able to override the default hidden behavior on the sphinx rendered scikit-learn.org. See: https://github.com/scikit-learn/scikit-learn/issues/21755 */display: inline-block !important;position: relative;}#sk-container-id-2 div.sk-text-repr-fallback {display: none;}</style><div id=\"sk-container-id-2\" class=\"sk-top-container\"><div class=\"sk-text-repr-fallback\"><pre>LinearRegression()</pre><b>In a Jupyter environment, please rerun this cell to show the HTML representation or trust the notebook. <br />On GitHub, the HTML representation is unable to render, please try loading this page with nbviewer.org.</b></div><div class=\"sk-container\" hidden><div class=\"sk-item\"><div class=\"sk-estimator sk-toggleable\"><input class=\"sk-toggleable__control sk-hidden--visually\" id=\"sk-estimator-id-2\" type=\"checkbox\" checked><label for=\"sk-estimator-id-2\" class=\"sk-toggleable__label sk-toggleable__label-arrow\">LinearRegression</label><div class=\"sk-toggleable__content\"><pre>LinearRegression()</pre></div></div></div></div></div>"
      ],
      "text/plain": [
       "LinearRegression()"
      ]
     },
     "execution_count": 27,
     "metadata": {},
     "output_type": "execute_result"
    }
   ],
   "source": [
    "#Initialize a linear regression model and fit it to the training set\n",
    "model = LinearRegression()\n",
    "model.fit(X, y)"
   ]
  },
  {
   "cell_type": "code",
   "execution_count": 28,
   "id": "bedcc93a",
   "metadata": {},
   "outputs": [],
   "source": [
    "#Test the model using the test set\n",
    "y_pred = model.predict(test_set_final)"
   ]
  },
  {
   "cell_type": "code",
   "execution_count": 29,
   "id": "75a13035",
   "metadata": {},
   "outputs": [
    {
     "name": "stdout",
     "output_type": "stream",
     "text": [
      "R² Score: 0.00003\n"
     ]
    }
   ],
   "source": [
    "#Calculare the predictive R2 of the model\n",
    "r2 = r2_score(test_labels_final, y_pred)\n",
    "print(f'R² Score: {r2:.5f}')"
   ]
  },
  {
   "cell_type": "code",
   "execution_count": 201,
   "id": "82511154",
   "metadata": {},
   "outputs": [],
   "source": [
    "#Save the model to a pickle file\n",
    "with open('contact_distance_linear_regression.pkl', 'wb') as file:\n",
    "    pickle.dump(model, file)"
   ]
  },
  {
   "cell_type": "code",
   "execution_count": 202,
   "id": "f1a23e6a",
   "metadata": {},
   "outputs": [
    {
     "data": {
      "image/png": "[encoded data removed]",
      "text/plain": [
       "<Figure size 1000x600 with 1 Axes>"
      ]
     },
     "metadata": {},
     "output_type": "display_data"
    }
   ],
   "source": [
    "plt.figure(figsize=(10, 6))\n",
    "\n",
    "# Plotting the original data points as scatter plot\n",
    "plt.scatter(test_set_final, y_pred, color='blue')\n",
    "plt.scatter(test_set_final, test_labels_final, color='orange')\n",
    "\n",
    "# If you also want to plot the regression line\n",
    "plt.plot(test_set_final, y_pred, color='gray', linestyle='--')\n",
    "\n",
    "# Adding R2 to the plot\n",
    "plt.text(0.10, 0.95, f'R² = {r2:.2f}', ha='left', va='center', transform=plt.gca().transAxes)\n",
    "\n",
    "# Setting labels, title and legend\n",
    "plt.xlabel('Normalized genomic distance')\n",
    "plt.ylabel('Normalized contact frequency')\n",
    "plt.title('Linear regression of contact frequency as a function of enhancer-promoter distance')\n",
    "plt.legend(['Predicted ', 'Observed'])\n",
    "\n",
    "# Displaying the plot\n",
    "plt.show()\n",
    "# plt.savefig(\"filename.png\", dpi=300)"
   ]
  },
  {
   "cell_type": "code",
   "execution_count": 208,
   "id": "e3b18137",
   "metadata": {},
   "outputs": [],
   "source": [
    "#Linear regression based only on eRNA and gene expression\n",
    "\n",
    "#Prepare training, validation, and test data\n",
    "train = data[[\"expression1\", \"expression2\", \"dist\", \"norm_contacts\"]]\n",
    "train_features = train.copy()\n",
    "\n",
    "##Log-normalize contact frequencies\n",
    "train_features[\"norm_contacts\"] = np.log(train_features[\"norm_contacts\"])\n",
    "\n",
    "##Log1p-normalize genomic distances\n",
    "train_features[\"dist\"] = np.log1p(train_features[\"dist\"])\n",
    "\n",
    "train_labels = train_features.pop(\"norm_contacts\")\n",
    "#train_features.pop(\"erna_grex\")\n",
    "#train_features.pop(\"gene_grex\")\n",
    "train_features.pop(\"dist\")\n",
    "train_labels\n",
    "\n",
    "#train_labels = list(map(lambda x: x.replace('ad', '0'), train_labels))\n",
    "#train_labels = list(map(lambda x: x.replace('scc', '1'), train_labels))\n",
    "\n",
    "#train_labels = [int(x) for x in train_labels]\n",
    "train_labels = np.array(train_labels)\n",
    "\n",
    "train_labels\n",
    "\n",
    "train_set_final, test_set_final, train_labels_final, test_labels_final = train_test_split(train_features, train_labels, test_size=0.2, random_state=42)\n",
    "#val_set_final, test_set_final, val_labels_final, test_labels_final = train_test_split(test_set_prelim, test_labels_prelim, test_size=0.5, random_state=42)"
   ]
  },
  {
   "cell_type": "code",
   "execution_count": 209,
   "id": "40c578dc",
   "metadata": {},
   "outputs": [
    {
     "data": {
      "text/plain": [
       "(68504,)"
      ]
     },
     "execution_count": 209,
     "metadata": {},
     "output_type": "execute_result"
    }
   ],
   "source": [
    "train_set_final = np.array(train_set_final)\n",
    "train_set_final.shape\n",
    "\n",
    "train_labels_final = np.array(train_labels_final)\n",
    "train_labels_final.shape"
   ]
  },
  {
   "cell_type": "code",
   "execution_count": 210,
   "id": "c8138a14",
   "metadata": {},
   "outputs": [],
   "source": [
    "# val_set_final = np.array(val_set_final)\n",
    "# val_set_final.shape\n",
    "\n",
    "# val_labels_final = np.array(val_labels_final)\n",
    "# val_labels_final.shape"
   ]
  },
  {
   "cell_type": "code",
   "execution_count": 211,
   "id": "b22d9cd7",
   "metadata": {},
   "outputs": [
    {
     "data": {
      "text/plain": [
       "(17126, 2)"
      ]
     },
     "execution_count": 211,
     "metadata": {},
     "output_type": "execute_result"
    }
   ],
   "source": [
    "test_set_final = np.array(test_set_final)\n",
    "test_set_final.shape"
   ]
  },
  {
   "cell_type": "code",
   "execution_count": 212,
   "id": "3e9162f1",
   "metadata": {},
   "outputs": [],
   "source": [
    "train_features = np.array(train_features)"
   ]
  },
  {
   "cell_type": "code",
   "execution_count": 213,
   "id": "33df2e84",
   "metadata": {},
   "outputs": [],
   "source": [
    "# X = np.concatenate((train_set_final, val_set_final), axis=0)\n",
    "# y = np.concatenate((train_labels_final, val_labels_final), axis=0)\n",
    "\n",
    "X = train_features\n",
    "y = train_labels"
   ]
  },
  {
   "cell_type": "code",
   "execution_count": 214,
   "id": "71f3f82c",
   "metadata": {},
   "outputs": [
    {
     "data": {
      "text/html": [
       "<style>#sk-container-id-17 {color: black;background-color: white;}#sk-container-id-17 pre{padding: 0;}#sk-container-id-17 div.sk-toggleable {background-color: white;}#sk-container-id-17 label.sk-toggleable__label {cursor: pointer;display: block;width: 100%;margin-bottom: 0;padding: 0.3em;box-sizing: border-box;text-align: center;}#sk-container-id-17 label.sk-toggleable__label-arrow:before {content: \"▸\";float: left;margin-right: 0.25em;color: #696969;}#sk-container-id-17 label.sk-toggleable__label-arrow:hover:before {color: black;}#sk-container-id-17 div.sk-estimator:hover label.sk-toggleable__label-arrow:before {color: black;}#sk-container-id-17 div.sk-toggleable__content {max-height: 0;max-width: 0;overflow: hidden;text-align: left;background-color: #f0f8ff;}#sk-container-id-17 div.sk-toggleable__content pre {margin: 0.2em;color: black;border-radius: 0.25em;background-color: #f0f8ff;}#sk-container-id-17 input.sk-toggleable__control:checked~div.sk-toggleable__content {max-height: 200px;max-width: 100%;overflow: auto;}#sk-container-id-17 input.sk-toggleable__control:checked~label.sk-toggleable__label-arrow:before {content: \"▾\";}#sk-container-id-17 div.sk-estimator input.sk-toggleable__control:checked~label.sk-toggleable__label {background-color: #d4ebff;}#sk-container-id-17 div.sk-label input.sk-toggleable__control:checked~label.sk-toggleable__label {background-color: #d4ebff;}#sk-container-id-17 input.sk-hidden--visually {border: 0;clip: rect(1px 1px 1px 1px);clip: rect(1px, 1px, 1px, 1px);height: 1px;margin: -1px;overflow: hidden;padding: 0;position: absolute;width: 1px;}#sk-container-id-17 div.sk-estimator {font-family: monospace;background-color: #f0f8ff;border: 1px dotted black;border-radius: 0.25em;box-sizing: border-box;margin-bottom: 0.5em;}#sk-container-id-17 div.sk-estimator:hover {background-color: #d4ebff;}#sk-container-id-17 div.sk-parallel-item::after {content: \"\";width: 100%;border-bottom: 1px solid gray;flex-grow: 1;}#sk-container-id-17 div.sk-label:hover label.sk-toggleable__label {background-color: #d4ebff;}#sk-container-id-17 div.sk-serial::before {content: \"\";position: absolute;border-left: 1px solid gray;box-sizing: border-box;top: 0;bottom: 0;left: 50%;z-index: 0;}#sk-container-id-17 div.sk-serial {display: flex;flex-direction: column;align-items: center;background-color: white;padding-right: 0.2em;padding-left: 0.2em;position: relative;}#sk-container-id-17 div.sk-item {position: relative;z-index: 1;}#sk-container-id-17 div.sk-parallel {display: flex;align-items: stretch;justify-content: center;background-color: white;position: relative;}#sk-container-id-17 div.sk-item::before, #sk-container-id-17 div.sk-parallel-item::before {content: \"\";position: absolute;border-left: 1px solid gray;box-sizing: border-box;top: 0;bottom: 0;left: 50%;z-index: -1;}#sk-container-id-17 div.sk-parallel-item {display: flex;flex-direction: column;z-index: 1;position: relative;background-color: white;}#sk-container-id-17 div.sk-parallel-item:first-child::after {align-self: flex-end;width: 50%;}#sk-container-id-17 div.sk-parallel-item:last-child::after {align-self: flex-start;width: 50%;}#sk-container-id-17 div.sk-parallel-item:only-child::after {width: 0;}#sk-container-id-17 div.sk-dashed-wrapped {border: 1px dashed gray;margin: 0 0.4em 0.5em 0.4em;box-sizing: border-box;padding-bottom: 0.4em;background-color: white;}#sk-container-id-17 div.sk-label label {font-family: monospace;font-weight: bold;display: inline-block;line-height: 1.2em;}#sk-container-id-17 div.sk-label-container {text-align: center;}#sk-container-id-17 div.sk-container {/* jupyter's `normalize.less` sets `[hidden] { display: none; }` but bootstrap.min.css set `[hidden] { display: none !important; }` so we also need the `!important` here to be able to override the default hidden behavior on the sphinx rendered scikit-learn.org. See: https://github.com/scikit-learn/scikit-learn/issues/21755 */display: inline-block !important;position: relative;}#sk-container-id-17 div.sk-text-repr-fallback {display: none;}</style><div id=\"sk-container-id-17\" class=\"sk-top-container\"><div class=\"sk-text-repr-fallback\"><pre>LinearRegression()</pre><b>In a Jupyter environment, please rerun this cell to show the HTML representation or trust the notebook. <br />On GitHub, the HTML representation is unable to render, please try loading this page with nbviewer.org.</b></div><div class=\"sk-container\" hidden><div class=\"sk-item\"><div class=\"sk-estimator sk-toggleable\"><input class=\"sk-toggleable__control sk-hidden--visually\" id=\"sk-estimator-id-17\" type=\"checkbox\" checked><label for=\"sk-estimator-id-17\" class=\"sk-toggleable__label sk-toggleable__label-arrow\">LinearRegression</label><div class=\"sk-toggleable__content\"><pre>LinearRegression()</pre></div></div></div></div></div>"
      ],
      "text/plain": [
       "LinearRegression()"
      ]
     },
     "execution_count": 214,
     "metadata": {},
     "output_type": "execute_result"
    }
   ],
   "source": [
    "#Initialize a linear regression model and fit it to the training set\n",
    "model = LinearRegression()\n",
    "model.fit(X, y)"
   ]
  },
  {
   "cell_type": "code",
   "execution_count": 215,
   "id": "31e34398",
   "metadata": {},
   "outputs": [],
   "source": [
    "#Test the model using the test set\n",
    "y_pred = model.predict(test_set_final)"
   ]
  },
  {
   "cell_type": "code",
   "execution_count": 216,
   "id": "23dabf9a",
   "metadata": {},
   "outputs": [
    {
     "name": "stdout",
     "output_type": "stream",
     "text": [
      "R² Score: 0.00\n"
     ]
    }
   ],
   "source": [
    "#Calculare the predictive R2 of the model\n",
    "r2 = r2_score(test_labels_final, y_pred)\n",
    "print(f'R² Score: {r2:.2f}')"
   ]
  },
  {
   "cell_type": "code",
   "execution_count": 219,
   "id": "24ff32d7",
   "metadata": {},
   "outputs": [],
   "source": [
    "#Linear regression based on both expression and distance\n",
    "\n",
    "#Prepare training, validation, and test data\n",
    "train = data[[\"expression1\", \"expression2\", \"dist\", \"norm_contacts\"]]\n",
    "train_features = train.copy()\n",
    "\n",
    "##Log-normalize contact frequencies\n",
    "train_features[\"norm_contacts\"] = np.log(train_features[\"norm_contacts\"])\n",
    "\n",
    "##Log1p-normalize genomic distances\n",
    "train_features[\"dist\"] = np.log1p(train_features[\"dist\"])\n",
    "\n",
    "train_labels = train_features.pop(\"norm_contacts\")\n",
    "#train_features.pop(\"erna_grex\")\n",
    "#train_features.pop(\"gene_grex\")\n",
    "#train_features.pop(\"dist\")\n",
    "train_labels\n",
    "\n",
    "#train_labels = list(map(lambda x: x.replace('ad', '0'), train_labels))\n",
    "#train_labels = list(map(lambda x: x.replace('scc', '1'), train_labels))\n",
    "\n",
    "#train_labels = [int(x) for x in train_labels]\n",
    "train_labels = np.array(train_labels)\n",
    "\n",
    "train_labels\n",
    "\n",
    "train_set_final, test_set_final, train_labels_final, test_labels_final = train_test_split(train_features, train_labels, test_size=0.2, random_state=42)\n",
    "#val_set_final, test_set_final, val_labels_final, test_labels_final = train_test_split(test_set_prelim, test_labels_prelim, test_size=0.5, random_state=42)"
   ]
  },
  {
   "cell_type": "code",
   "execution_count": 220,
   "id": "4313cf5e",
   "metadata": {},
   "outputs": [
    {
     "data": {
      "text/plain": [
       "(68504,)"
      ]
     },
     "execution_count": 220,
     "metadata": {},
     "output_type": "execute_result"
    }
   ],
   "source": [
    "train_set_final = np.array(train_set_final)\n",
    "train_set_final.shape\n",
    "\n",
    "train_labels_final = np.array(train_labels_final)\n",
    "train_labels_final.shape"
   ]
  },
  {
   "cell_type": "code",
   "execution_count": 221,
   "id": "65ccf5b5",
   "metadata": {},
   "outputs": [
    {
     "data": {
      "text/plain": [
       "(17126, 3)"
      ]
     },
     "execution_count": 221,
     "metadata": {},
     "output_type": "execute_result"
    }
   ],
   "source": [
    "test_set_final = np.array(test_set_final)\n",
    "test_set_final.shape"
   ]
  },
  {
   "cell_type": "code",
   "execution_count": 222,
   "id": "936ccd34",
   "metadata": {},
   "outputs": [],
   "source": [
    "train_features = np.array(train_features)"
   ]
  },
  {
   "cell_type": "code",
   "execution_count": 223,
   "id": "65db48d5",
   "metadata": {},
   "outputs": [],
   "source": [
    "# X = np.concatenate((train_set_final, val_set_final), axis=0)\n",
    "# y = np.concatenate((train_labels_final, val_labels_final), axis=0)\n",
    "\n",
    "X = train_features\n",
    "y = train_labels"
   ]
  },
  {
   "cell_type": "code",
   "execution_count": 224,
   "id": "09505593",
   "metadata": {},
   "outputs": [
    {
     "data": {
      "text/html": [
       "<style>#sk-container-id-18 {color: black;background-color: white;}#sk-container-id-18 pre{padding: 0;}#sk-container-id-18 div.sk-toggleable {background-color: white;}#sk-container-id-18 label.sk-toggleable__label {cursor: pointer;display: block;width: 100%;margin-bottom: 0;padding: 0.3em;box-sizing: border-box;text-align: center;}#sk-container-id-18 label.sk-toggleable__label-arrow:before {content: \"▸\";float: left;margin-right: 0.25em;color: #696969;}#sk-container-id-18 label.sk-toggleable__label-arrow:hover:before {color: black;}#sk-container-id-18 div.sk-estimator:hover label.sk-toggleable__label-arrow:before {color: black;}#sk-container-id-18 div.sk-toggleable__content {max-height: 0;max-width: 0;overflow: hidden;text-align: left;background-color: #f0f8ff;}#sk-container-id-18 div.sk-toggleable__content pre {margin: 0.2em;color: black;border-radius: 0.25em;background-color: #f0f8ff;}#sk-container-id-18 input.sk-toggleable__control:checked~div.sk-toggleable__content {max-height: 200px;max-width: 100%;overflow: auto;}#sk-container-id-18 input.sk-toggleable__control:checked~label.sk-toggleable__label-arrow:before {content: \"▾\";}#sk-container-id-18 div.sk-estimator input.sk-toggleable__control:checked~label.sk-toggleable__label {background-color: #d4ebff;}#sk-container-id-18 div.sk-label input.sk-toggleable__control:checked~label.sk-toggleable__label {background-color: #d4ebff;}#sk-container-id-18 input.sk-hidden--visually {border: 0;clip: rect(1px 1px 1px 1px);clip: rect(1px, 1px, 1px, 1px);height: 1px;margin: -1px;overflow: hidden;padding: 0;position: absolute;width: 1px;}#sk-container-id-18 div.sk-estimator {font-family: monospace;background-color: #f0f8ff;border: 1px dotted black;border-radius: 0.25em;box-sizing: border-box;margin-bottom: 0.5em;}#sk-container-id-18 div.sk-estimator:hover {background-color: #d4ebff;}#sk-container-id-18 div.sk-parallel-item::after {content: \"\";width: 100%;border-bottom: 1px solid gray;flex-grow: 1;}#sk-container-id-18 div.sk-label:hover label.sk-toggleable__label {background-color: #d4ebff;}#sk-container-id-18 div.sk-serial::before {content: \"\";position: absolute;border-left: 1px solid gray;box-sizing: border-box;top: 0;bottom: 0;left: 50%;z-index: 0;}#sk-container-id-18 div.sk-serial {display: flex;flex-direction: column;align-items: center;background-color: white;padding-right: 0.2em;padding-left: 0.2em;position: relative;}#sk-container-id-18 div.sk-item {position: relative;z-index: 1;}#sk-container-id-18 div.sk-parallel {display: flex;align-items: stretch;justify-content: center;background-color: white;position: relative;}#sk-container-id-18 div.sk-item::before, #sk-container-id-18 div.sk-parallel-item::before {content: \"\";position: absolute;border-left: 1px solid gray;box-sizing: border-box;top: 0;bottom: 0;left: 50%;z-index: -1;}#sk-container-id-18 div.sk-parallel-item {display: flex;flex-direction: column;z-index: 1;position: relative;background-color: white;}#sk-container-id-18 div.sk-parallel-item:first-child::after {align-self: flex-end;width: 50%;}#sk-container-id-18 div.sk-parallel-item:last-child::after {align-self: flex-start;width: 50%;}#sk-container-id-18 div.sk-parallel-item:only-child::after {width: 0;}#sk-container-id-18 div.sk-dashed-wrapped {border: 1px dashed gray;margin: 0 0.4em 0.5em 0.4em;box-sizing: border-box;padding-bottom: 0.4em;background-color: white;}#sk-container-id-18 div.sk-label label {font-family: monospace;font-weight: bold;display: inline-block;line-height: 1.2em;}#sk-container-id-18 div.sk-label-container {text-align: center;}#sk-container-id-18 div.sk-container {/* jupyter's `normalize.less` sets `[hidden] { display: none; }` but bootstrap.min.css set `[hidden] { display: none !important; }` so we also need the `!important` here to be able to override the default hidden behavior on the sphinx rendered scikit-learn.org. See: https://github.com/scikit-learn/scikit-learn/issues/21755 */display: inline-block !important;position: relative;}#sk-container-id-18 div.sk-text-repr-fallback {display: none;}</style><div id=\"sk-container-id-18\" class=\"sk-top-container\"><div class=\"sk-text-repr-fallback\"><pre>LinearRegression()</pre><b>In a Jupyter environment, please rerun this cell to show the HTML representation or trust the notebook. <br />On GitHub, the HTML representation is unable to render, please try loading this page with nbviewer.org.</b></div><div class=\"sk-container\" hidden><div class=\"sk-item\"><div class=\"sk-estimator sk-toggleable\"><input class=\"sk-toggleable__control sk-hidden--visually\" id=\"sk-estimator-id-18\" type=\"checkbox\" checked><label for=\"sk-estimator-id-18\" class=\"sk-toggleable__label sk-toggleable__label-arrow\">LinearRegression</label><div class=\"sk-toggleable__content\"><pre>LinearRegression()</pre></div></div></div></div></div>"
      ],
      "text/plain": [
       "LinearRegression()"
      ]
     },
     "execution_count": 224,
     "metadata": {},
     "output_type": "execute_result"
    }
   ],
   "source": [
    "#Initialize a linear regression model and fit it to the training set\n",
    "model = LinearRegression()\n",
    "model.fit(X, y)"
   ]
  },
  {
   "cell_type": "code",
   "execution_count": 225,
   "id": "d8faaddb",
   "metadata": {},
   "outputs": [],
   "source": [
    "#Test the model using the test set\n",
    "y_pred = model.predict(test_set_final)"
   ]
  },
  {
   "cell_type": "code",
   "execution_count": 226,
   "id": "f8226afa",
   "metadata": {},
   "outputs": [
    {
     "name": "stdout",
     "output_type": "stream",
     "text": [
      "R² Score: 0.67\n"
     ]
    }
   ],
   "source": [
    "#Calculare the predictive R2 of the model\n",
    "r2 = r2_score(test_labels_final, y_pred)\n",
    "print(f'R² Score: {r2:.2f}')"
   ]
  }
 ],
 "metadata": {
  "kernelspec": {
   "display_name": "Python 3 (ipykernel)",
   "language": "python",
   "name": "python3"
  },
  "language_info": {
   "codemirror_mode": {
    "name": "ipython",
    "version": 3
   },
   "file_extension": ".py",
   "mimetype": "text/x-python",
   "name": "python",
   "nbconvert_exporter": "python",
   "pygments_lexer": "ipython3",
   "version": "3.10.13"
  }
 },
 "nbformat": 4,
 "nbformat_minor": 5
}
